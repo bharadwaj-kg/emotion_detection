{
 "cells": [
  {
   "cell_type": "code",
   "execution_count": null,
   "metadata": {},
   "outputs": [],
   "source": [
    "import numpy as np\n",
    "import pandas as pd"
   ]
  },
  {
   "cell_type": "code",
   "execution_count": null,
   "metadata": {},
   "outputs": [],
   "source": [
    "CLASS_NAMES = [\"neutral\", \"happiness\", \"surprise\", \"sadness\", \"anger\", \"disgust\", \"fear\"]"
   ]
  },
  {
   "cell_type": "code",
   "execution_count": null,
   "metadata": {},
   "outputs": [],
   "source": [
    "seed = 42"
   ]
  },
  {
   "cell_type": "markdown",
   "metadata": {},
   "source": [
    "# Train part"
   ]
  },
  {
   "cell_type": "code",
   "execution_count": null,
   "metadata": {},
   "outputs": [],
   "source": [
    "path_train = '../fer_pytorch/dataset/data/FER2013Train/label.csv'\n",
    "train_df = pd.read_csv(path_train, header=None)\n",
    "print(train_df.shape)\n",
    "train_df.head()"
   ]
  },
  {
   "cell_type": "code",
   "execution_count": null,
   "metadata": {},
   "outputs": [],
   "source": [
    "train_df['actual_label'] = train_df.iloc[:, 2:].idxmax(axis=\"columns\")\n",
    "pd.to_numeric(train_df['actual_label'])"
   ]
  },
  {
   "cell_type": "code",
   "execution_count": null,
   "metadata": {},
   "outputs": [],
   "source": [
    "train_df['actual_label'] = train_df['actual_label'] - 2"
   ]
  },
  {
   "cell_type": "code",
   "execution_count": null,
   "metadata": {},
   "outputs": [],
   "source": [
    "train_df['actual_label'].head()"
   ]
  },
  {
   "cell_type": "code",
   "execution_count": null,
   "metadata": {
    "scrolled": true
   },
   "outputs": [],
   "source": [
    "train_df.head()"
   ]
  },
  {
   "cell_type": "code",
   "execution_count": null,
   "metadata": {},
   "outputs": [],
   "source": [
    "train_df['actual_label'].value_counts()"
   ]
  },
  {
   "cell_type": "code",
   "execution_count": null,
   "metadata": {},
   "outputs": [],
   "source": [
    "train_df = train_df.loc[(train_df.actual_label != 7) & (train_df.actual_label != 8) & (train_df.actual_label != 9)]\n",
    "train_df['actual_label'].value_counts()"
   ]
  },
  {
   "cell_type": "code",
   "execution_count": null,
   "metadata": {},
   "outputs": [],
   "source": [
    "new_train_df = pd.DataFrame({'image_id': train_df.iloc[:, 0], 'label': train_df.actual_label})\n",
    "print(new_train_df.shape)\n",
    "new_train_df.head()"
   ]
  },
  {
   "cell_type": "code",
   "execution_count": null,
   "metadata": {},
   "outputs": [],
   "source": [
    "new_train_df.to_csv('new_train.csv', index=False)"
   ]
  },
  {
   "cell_type": "markdown",
   "metadata": {},
   "source": [
    "# Val part"
   ]
  },
  {
   "cell_type": "code",
   "execution_count": null,
   "metadata": {},
   "outputs": [],
   "source": [
    "path_val = '../fer_pytorch/dataset/data/FER2013Valid/label.csv'\n",
    "val_df = pd.read_csv(path_val, header=None)\n",
    "print(val_df.shape)\n",
    "val_df.head()"
   ]
  },
  {
   "cell_type": "code",
   "execution_count": null,
   "metadata": {},
   "outputs": [],
   "source": [
    "val_df['actual_label'] = val_df.iloc[:, 2:].idxmax(axis=\"columns\")\n",
    "pd.to_numeric(val_df['actual_label'])"
   ]
  },
  {
   "cell_type": "code",
   "execution_count": null,
   "metadata": {},
   "outputs": [],
   "source": [
    "val_df['actual_label'] = val_df['actual_label'] - 2"
   ]
  },
  {
   "cell_type": "code",
   "execution_count": null,
   "metadata": {},
   "outputs": [],
   "source": [
    "val_df['actual_label'].head()"
   ]
  },
  {
   "cell_type": "code",
   "execution_count": null,
   "metadata": {},
   "outputs": [],
   "source": [
    "val_df.head()"
   ]
  },
  {
   "cell_type": "code",
   "execution_count": null,
   "metadata": {},
   "outputs": [],
   "source": [
    "val_df['actual_label'].value_counts()"
   ]
  },
  {
   "cell_type": "code",
   "execution_count": null,
   "metadata": {},
   "outputs": [],
   "source": [
    "val_df = val_df.loc[(val_df.actual_label != 7) & (val_df.actual_label != 8) & (val_df.actual_label != 9)]\n",
    "val_df['actual_label'].value_counts()"
   ]
  },
  {
   "cell_type": "code",
   "execution_count": null,
   "metadata": {},
   "outputs": [],
   "source": [
    "new_val_df = pd.DataFrame({'image_id': val_df.iloc[:, 0], 'label': val_df.actual_label})\n",
    "print(new_val_df.shape)\n",
    "new_val_df.head()"
   ]
  },
  {
   "cell_type": "code",
   "execution_count": null,
   "metadata": {},
   "outputs": [],
   "source": [
    "new_val_df.to_csv('new_val.csv', index=False)"
   ]
  },
  {
   "cell_type": "markdown",
   "metadata": {},
   "source": [
    "# Test part"
   ]
  },
  {
   "cell_type": "code",
   "execution_count": null,
   "metadata": {},
   "outputs": [],
   "source": [
    "path_test = '../fer_pytorch/dataset/data/FER2013Test/label.csv'\n",
    "test_df = pd.read_csv(path_test, header=None)\n",
    "test_df.head()"
   ]
  },
  {
   "cell_type": "code",
   "execution_count": null,
   "metadata": {},
   "outputs": [],
   "source": [
    "test_df['actual_label'] = test_df.iloc[:, 2:].idxmax(axis=\"columns\")\n",
    "pd.to_numeric(test_df['actual_label'])"
   ]
  },
  {
   "cell_type": "code",
   "execution_count": null,
   "metadata": {},
   "outputs": [],
   "source": [
    "test_df['actual_label'] = test_df['actual_label'] - 2"
   ]
  },
  {
   "cell_type": "code",
   "execution_count": null,
   "metadata": {},
   "outputs": [],
   "source": [
    "test_df['actual_label'].head()"
   ]
  },
  {
   "cell_type": "code",
   "execution_count": null,
   "metadata": {},
   "outputs": [],
   "source": [
    "test_df.head()"
   ]
  },
  {
   "cell_type": "code",
   "execution_count": null,
   "metadata": {},
   "outputs": [],
   "source": [
    "test_df['actual_label'].value_counts()"
   ]
  },
  {
   "cell_type": "code",
   "execution_count": null,
   "metadata": {},
   "outputs": [],
   "source": [
    "test_df = test_df.loc[(test_df.actual_label != 7) & (test_df.actual_label != 8)]\n",
    "test_df['actual_label'].value_counts()"
   ]
  },
  {
   "cell_type": "code",
   "execution_count": null,
   "metadata": {},
   "outputs": [],
   "source": [
    "new_test_df = pd.DataFrame({'image_id': test_df.iloc[:, 0], 'label': test_df.actual_label})\n",
    "print(new_test_df.shape)\n",
    "new_test_df.head()"
   ]
  },
  {
   "cell_type": "code",
   "execution_count": null,
   "metadata": {},
   "outputs": [],
   "source": [
    "new_test_df.to_csv('new_test.csv', index=False)"
   ]
  },
  {
   "cell_type": "markdown",
   "metadata": {},
   "source": [
    "## Add some classes from test data to train"
   ]
  },
  {
   "cell_type": "code",
   "execution_count": null,
   "metadata": {},
   "outputs": [],
   "source": [
    "test_surprise = new_test_df[new_test_df['label']==2]\n",
    "test_sadness = new_test_df[new_test_df['label']==3]\n",
    "test_anger = new_test_df[new_test_df['label']==4]\n",
    "test_disgust = new_test_df[new_test_df['label']==5]\n",
    "test_fear = new_test_df[new_test_df['label']==6]"
   ]
  },
  {
   "cell_type": "code",
   "execution_count": null,
   "metadata": {},
   "outputs": [],
   "source": [
    "print(test_surprise.shape)\n",
    "print(test_sadness.shape)\n",
    "print(test_anger.shape)\n",
    "print(test_disgust.shape)\n",
    "print(test_fear.shape)\n",
    "print(test_surprise.shape[0] + test_sadness.shape[0] + test_anger.shape[0] + test_disgust.shape[0] + test_fear.shape[0])"
   ]
  },
  {
   "cell_type": "code",
   "execution_count": null,
   "metadata": {},
   "outputs": [],
   "source": [
    "new_train_test_df = new_train_df.append([test_surprise, test_sadness, test_anger, test_disgust, test_fear], ignore_index=True)"
   ]
  },
  {
   "cell_type": "code",
   "execution_count": null,
   "metadata": {},
   "outputs": [],
   "source": [
    "print(new_train_test_df.shape)"
   ]
  },
  {
   "cell_type": "code",
   "execution_count": null,
   "metadata": {},
   "outputs": [],
   "source": [
    "new_train_test_df.to_csv('new_train+test.csv', index=False)"
   ]
  },
  {
   "cell_type": "markdown",
   "metadata": {},
   "source": [
    "## Sample some classes"
   ]
  },
  {
   "cell_type": "code",
   "execution_count": null,
   "metadata": {},
   "outputs": [],
   "source": [
    "new_train_test_df['label'].value_counts()"
   ]
  },
  {
   "cell_type": "code",
   "execution_count": null,
   "metadata": {},
   "outputs": [],
   "source": [
    "sample_surprise = new_train_test_df[new_train_test_df['label']==2].sample(frac=1.7, replace=True, random_state=seed)\n",
    "sample_surprise.shape"
   ]
  },
  {
   "cell_type": "code",
   "execution_count": null,
   "metadata": {},
   "outputs": [],
   "source": [
    "sample_sadness = new_train_test_df[new_train_test_df['label']==3].sample(frac=1.71, replace=True, random_state=seed)\n",
    "sample_sadness.shape"
   ]
  },
  {
   "cell_type": "code",
   "execution_count": null,
   "metadata": {},
   "outputs": [],
   "source": [
    "sample_anger = new_train_test_df[new_train_test_df['label']==4].sample(frac=2, replace=True, random_state=seed)\n",
    "sample_anger.shape"
   ]
  },
  {
   "cell_type": "code",
   "execution_count": null,
   "metadata": {},
   "outputs": [],
   "source": [
    "sample_disgust = new_train_test_df[new_train_test_df['label']==5].sample(frac=8, replace=True, random_state=seed)\n",
    "sample_disgust.shape"
   ]
  },
  {
   "cell_type": "code",
   "execution_count": null,
   "metadata": {},
   "outputs": [],
   "source": [
    "sample_fear = new_train_test_df[new_train_test_df['label']==6].sample(frac=5, replace=True, random_state=seed)\n",
    "sample_fear.shape"
   ]
  },
  {
   "cell_type": "code",
   "execution_count": null,
   "metadata": {},
   "outputs": [],
   "source": [
    "neutral_df = new_train_test_df[new_train_test_df['label'] == 0]\n",
    "print(neutral_df.shape)\n",
    "neutral_df.head()"
   ]
  },
  {
   "cell_type": "code",
   "execution_count": null,
   "metadata": {},
   "outputs": [],
   "source": [
    "happiness_df = new_train_test_df[new_train_test_df['label'] == 1]\n",
    "print(happiness_df.shape)\n",
    "happiness_df.head()"
   ]
  },
  {
   "cell_type": "code",
   "execution_count": null,
   "metadata": {},
   "outputs": [],
   "source": [
    "new_sampled = neutral_df.append([happiness_df, sample_surprise, sample_sadness, sample_anger, sample_disgust, sample_fear], ignore_index=True)\n",
    "print(new_sampled.shape)\n",
    "new_sampled.head()"
   ]
  },
  {
   "cell_type": "code",
   "execution_count": null,
   "metadata": {},
   "outputs": [],
   "source": [
    "new_sampled.to_csv('new_sampled.csv', index=False)"
   ]
  }
 ],
 "metadata": {
  "kernelspec": {
   "display_name": "Python 3 (ipykernel)",
   "language": "python",
   "name": "python3"
  },
  "language_info": {
   "codemirror_mode": {
    "name": "ipython",
    "version": 3
   },
   "file_extension": ".py",
   "mimetype": "text/x-python",
   "name": "python",
   "nbconvert_exporter": "python",
   "pygments_lexer": "ipython3",
   "version": "3.8.13"
  }
 },
 "nbformat": 4,
 "nbformat_minor": 4
}
