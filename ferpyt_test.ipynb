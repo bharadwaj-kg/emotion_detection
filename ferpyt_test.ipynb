{
 "cells": [
  {
   "cell_type": "code",
   "execution_count": 1,
   "id": "0cadcbe4",
   "metadata": {},
   "outputs": [],
   "source": [
    "import cv2\n",
    "from fer_pytorch.fer import FER"
   ]
  },
  {
   "cell_type": "code",
   "execution_count": 2,
   "id": "b55ccae3",
   "metadata": {},
   "outputs": [],
   "source": [
    "fer = FER()\n",
    "fer.get_pretrained_model(\"resnet34\")"
   ]
  },
  {
   "cell_type": "code",
   "execution_count": 3,
   "id": "fbc00060",
   "metadata": {},
   "outputs": [
    {
     "name": "stderr",
     "output_type": "stream",
     "text": [
      "100%|████████████████████████████████████████████████████████████████████████████████| 440/440 [04:43<00:00,  1.55it/s]"
     ]
    },
    {
     "name": "stdout",
     "output_type": "stream",
     "text": [
      "{'accuracy': 0.83, 'f1': 0.83}\n",
      "CPU times: total: 17min 37s\n",
      "Wall time: 4min 43s\n"
     ]
    },
    {
     "name": "stderr",
     "output_type": "stream",
     "text": [
      "\n"
     ]
    }
   ],
   "source": [
    "%%time\n",
    "result_dict = fer.test_fer(\n",
    "    path_to_dataset = \"fer_pytorch/dataset\",\n",
    "    path_to_csv = \"fer_pytorch/dataset/new_test.csv\",\n",
    "    batch_size = 8,\n",
    "    num_workers = 2,\n",
    ")\n",
    "print(result_dict)"
   ]
  },
  {
   "cell_type": "code",
   "execution_count": null,
   "id": "1b4167b5",
   "metadata": {},
   "outputs": [],
   "source": []
  }
 ],
 "metadata": {
  "kernelspec": {
   "display_name": "nlp_env",
   "language": "python",
   "name": "nlp_env"
  },
  "language_info": {
   "codemirror_mode": {
    "name": "ipython",
    "version": 3
   },
   "file_extension": ".py",
   "mimetype": "text/x-python",
   "name": "python",
   "nbconvert_exporter": "python",
   "pygments_lexer": "ipython3",
   "version": "3.10.6"
  }
 },
 "nbformat": 4,
 "nbformat_minor": 5
}
